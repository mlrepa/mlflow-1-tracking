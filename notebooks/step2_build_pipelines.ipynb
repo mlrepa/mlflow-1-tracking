{
 "cells": [
  {
   "cell_type": "markdown",
   "metadata": {},
   "source": [
    "# Preparation"
   ]
  },
  {
   "cell_type": "code",
   "execution_count": 1,
   "metadata": {},
   "outputs": [
    {
     "name": "stdout",
     "output_type": "stream",
     "text": [
      "/home/mlflow-1-tracking\n"
     ]
    }
   ],
   "source": [
    "%cd /home/mlflow-1-tracking/"
   ]
  },
  {
   "cell_type": "code",
   "execution_count": 2,
   "metadata": {},
   "outputs": [
    {
     "data": {
      "text/plain": [
       "{'base': {'project': '7labs/mlflow-1-tracking',\n",
       "  'name': 'iris',\n",
       "  'tags': ['solution-0-prototype', 'dev'],\n",
       "  'model': {'model_name': 'model.joblib', 'models_folder': 'models'},\n",
       "  'experiments': {'experiments_folder': 'experiments'},\n",
       "  'random_state': 42},\n",
       " 'split_train_test': {'folder': 'experiments',\n",
       "  'train_csv': 'data/processed/train_iris.csv',\n",
       "  'test_csv': 'data/processed/test_iris.csv',\n",
       "  'test_size': 0.2},\n",
       " 'featurize': {'dataset_csv': 'data/raw/iris.csv',\n",
       "  'featured_dataset_csv': 'data/interim/featured_iris.csv',\n",
       "  'features_columns_range': ['sepal_length', 'petal_length_to_petal_width'],\n",
       "  'target_column': 'species'},\n",
       " 'train': {'cv': 5,\n",
       "  'estimator_name': 'SVC',\n",
       "  'estimators': {'LogisticRegression': {'param_grid': {'C': [0.001, 0.01],\n",
       "     'max_iter': [100],\n",
       "     'solver': ['lbfgs'],\n",
       "     'multi_class': ['multinomial']}},\n",
       "   'SVC': {'param_grid': {'C': [0.1, 1.0],\n",
       "     'kernel': ['rbf', 'linear'],\n",
       "     'gamma': ['scale'],\n",
       "     'degree': [3, 5]}}}},\n",
       " 'evaluate': {'metrics_file': 'eval.txt'}}"
      ]
     },
     "execution_count": 2,
     "metadata": {},
     "output_type": "execute_result"
    }
   ],
   "source": [
    "import yaml\n",
    "\n",
    "# Look on pipelines config \n",
    "config = yaml.load(open('config/pipeline_config.yml'), Loader=yaml.FullLoader)\n",
    "\n",
    "config"
   ]
  },
  {
   "cell_type": "markdown",
   "metadata": {},
   "source": [
    "# Prepare configs"
   ]
  },
  {
   "cell_type": "code",
   "execution_count": 3,
   "metadata": {},
   "outputs": [
    {
     "name": "stdout",
     "output_type": "stream",
     "text": [
      "Save config: experiments/base_config.yml\n",
      "Save config: experiments/split_train_test_config.yml\n",
      "Save config: experiments/featurize_config.yml\n",
      "Save config: experiments/train_config.yml\n",
      "Save config: experiments/evaluate_config.yml\n"
     ]
    }
   ],
   "source": [
    "!python src/pipelines/prepare_configs.py \\\n",
    "    --config=config/pipeline_config.yml"
   ]
  },
  {
   "cell_type": "markdown",
   "metadata": {},
   "source": [
    "## Browse folder with configs"
   ]
  },
  {
   "cell_type": "code",
   "execution_count": 4,
   "metadata": {},
   "outputs": [
    {
     "name": "stdout",
     "output_type": "stream",
     "text": [
      "base_config.yml      featurize_config.yml\t  train_config.yml\n",
      "evaluate_config.yml  split_train_test_config.yml\n"
     ]
    }
   ],
   "source": [
    "!ls experiments/"
   ]
  },
  {
   "cell_type": "markdown",
   "metadata": {},
   "source": [
    "# Extract features"
   ]
  },
  {
   "cell_type": "code",
   "execution_count": 5,
   "metadata": {},
   "outputs": [
    {
     "name": "stdout",
     "output_type": "stream",
     "text": [
      "dataset_csv: data/raw/iris.csv\n",
      "featured_dataset_csv: data/interim/featured_iris.csv\n",
      "features_columns_range:\n",
      "- sepal_length\n",
      "- petal_length_to_petal_width\n",
      "target_column: species\n"
     ]
    }
   ],
   "source": [
    "# featurization config\n",
    "!cat experiments/featurize_config.yml"
   ]
  },
  {
   "cell_type": "code",
   "execution_count": 6,
   "metadata": {},
   "outputs": [],
   "source": [
    "!python src/pipelines/featurize.py \\\n",
    "    --config=experiments/featurize_config.yml"
   ]
  },
  {
   "cell_type": "code",
   "execution_count": 7,
   "metadata": {},
   "outputs": [
    {
     "name": "stdout",
     "output_type": "stream",
     "text": [
      "featured_iris.csv\n"
     ]
    }
   ],
   "source": [
    "# iris dataset with new features is created\n",
    "!ls data/interim"
   ]
  },
  {
   "cell_type": "markdown",
   "metadata": {},
   "source": [
    "# Split train/test dataset"
   ]
  },
  {
   "cell_type": "code",
   "execution_count": 8,
   "metadata": {},
   "outputs": [
    {
     "name": "stdout",
     "output_type": "stream",
     "text": [
      "folder: experiments\n",
      "test_csv: data/processed/test_iris.csv\n",
      "test_size: 0.2\n",
      "train_csv: data/processed/train_iris.csv\n"
     ]
    }
   ],
   "source": [
    "# split config\n",
    "!cat experiments/split_train_test_config.yml"
   ]
  },
  {
   "cell_type": "code",
   "execution_count": 9,
   "metadata": {},
   "outputs": [],
   "source": [
    "!python src/pipelines/split_train_test.py \\\n",
    "    --config=experiments/split_train_test_config.yml \\\n",
    "    --base_config=config/pipeline_config.yml\n",
    "    "
   ]
  },
  {
   "cell_type": "code",
   "execution_count": 10,
   "metadata": {},
   "outputs": [
    {
     "name": "stdout",
     "output_type": "stream",
     "text": [
      "test_iris.csv  train_iris.csv\n"
     ]
    }
   ],
   "source": [
    "# train and test datsets are created\n",
    "!ls data/processed/"
   ]
  },
  {
   "cell_type": "markdown",
   "metadata": {},
   "source": [
    "# Train model"
   ]
  },
  {
   "cell_type": "code",
   "execution_count": 11,
   "metadata": {},
   "outputs": [
    {
     "name": "stdout",
     "output_type": "stream",
     "text": [
      "cv: 5\n",
      "estimator_name: SVC\n",
      "estimators:\n",
      "  LogisticRegression:\n",
      "    param_grid:\n",
      "      C:\n",
      "      - 0.001\n",
      "      - 0.01\n",
      "      max_iter:\n",
      "      - 100\n",
      "      multi_class:\n",
      "      - multinomial\n",
      "      solver:\n",
      "      - lbfgs\n",
      "  SVC:\n",
      "    param_grid:\n",
      "      C:\n",
      "      - 0.1\n",
      "      - 1.0\n",
      "      degree:\n",
      "      - 3\n",
      "      - 5\n",
      "      gamma:\n",
      "      - scale\n",
      "      kernel:\n",
      "      - rbf\n",
      "      - linear\n"
     ]
    }
   ],
   "source": [
    "# train config\n",
    "!cat experiments/train_config.yml"
   ]
  },
  {
   "cell_type": "code",
   "execution_count": 12,
   "metadata": {},
   "outputs": [
    {
     "name": "stdout",
     "output_type": "stream",
     "text": [
      "Fitting 5 folds for each of 8 candidates, totalling 40 fits\n",
      "[Parallel(n_jobs=1)]: Using backend SequentialBackend with 1 concurrent workers.\n",
      "[Parallel(n_jobs=1)]: Done  40 out of  40 | elapsed:    0.1s finished\n",
      "0.957314307639385\n"
     ]
    }
   ],
   "source": [
    "!python src/pipelines/train.py \\\n",
    "    --config=experiments/train_config.yml \\\n",
    "    --base_config=config/pipeline_config.yml"
   ]
  },
  {
   "cell_type": "code",
   "execution_count": 13,
   "metadata": {},
   "outputs": [
    {
     "name": "stdout",
     "output_type": "stream",
     "text": [
      "model.joblib\n"
     ]
    }
   ],
   "source": [
    "# model is created\n",
    "!ls models/"
   ]
  },
  {
   "cell_type": "markdown",
   "metadata": {},
   "source": [
    "# Evaluate model "
   ]
  },
  {
   "cell_type": "code",
   "execution_count": 14,
   "metadata": {},
   "outputs": [
    {
     "name": "stdout",
     "output_type": "stream",
     "text": [
      "metrics_file: eval.txt\n"
     ]
    }
   ],
   "source": [
    "# evaluate config\n",
    "!cat experiments/evaluate_config.yml"
   ]
  },
  {
   "cell_type": "code",
   "execution_count": 17,
   "metadata": {},
   "outputs": [
    {
     "name": "stdout",
     "output_type": "stream",
     "text": [
      "{'f1_score': 1.0, 'confusion_matrix': [[10, 0, 0], [0, 9, 0], [0, 0, 11]]}\n",
      "[<Experiment: artifact_location='file:///home/mlflow-1-tracking/mlruns/0', experiment_id='0', lifecycle_stage='active', name='LogisticRegression'>, <Experiment: artifact_location='file:///home/mlflow-1-tracking/mlruns/1', experiment_id='1', lifecycle_stage='active', name='SVC'>]\n",
      "<ActiveRun: >\n",
      "<RunInfo: artifact_uri='file:///home/mlflow-1-tracking/mlruns/1/ee9cea377619417fb0f5f45f6ce3c067/artifacts', end_time=None, experiment_id='1', lifecycle_stage='active', run_id='ee9cea377619417fb0f5f45f6ce3c067', run_uuid='ee9cea377619417fb0f5f45f6ce3c067', start_time=1561125885644, status='RUNNING', user_id='user'>\n",
      "ee9cea377619417fb0f5f45f6ce3c067\n"
     ]
    }
   ],
   "source": [
    "!python src/pipelines/evaluate.py \\\n",
    "    --config=experiments/evaluate_config.yml \\\n",
    "    --base_config=config/pipeline_config.yml"
   ]
  },
  {
   "cell_type": "code",
   "execution_count": 18,
   "metadata": {},
   "outputs": [
    {
     "name": "stdout",
     "output_type": "stream",
     "text": [
      "base_config.yml  evaluate_config.yml   split_train_test_config.yml\n",
      "eval.txt\t featurize_config.yml  train_config.yml\n"
     ]
    }
   ],
   "source": [
    "# metrics file eval.txt is created\n",
    "!ls experiments"
   ]
  },
  {
   "cell_type": "code",
   "execution_count": 19,
   "metadata": {},
   "outputs": [
    {
     "name": "stdout",
     "output_type": "stream",
     "text": [
      "{\n",
      "  \"f1_score\": 1.0,\n",
      "  \"confusion_matrix\": [\n",
      "    [\n",
      "      10,\n",
      "      0,\n",
      "      0\n",
      "    ],\n",
      "    [\n",
      "      0,\n",
      "      9,\n",
      "      0\n",
      "    ],\n",
      "    [\n",
      "      0,\n",
      "      0,\n",
      "      11\n",
      "    ]\n",
      "  ]\n",
      "}"
     ]
    }
   ],
   "source": [
    "!cat experiments/eval.txt"
   ]
  },
  {
   "cell_type": "code",
   "execution_count": 20,
   "metadata": {},
   "outputs": [
    {
     "data": {
      "text/plain": [
       "{'f1_score': 1.0, 'confusion_matrix': [[10, 0, 0], [0, 9, 0], [0, 0, 11]]}"
      ]
     },
     "execution_count": 20,
     "metadata": {},
     "output_type": "execute_result"
    }
   ],
   "source": [
    "evaluate_report = yaml.load(open('experiments/eval.txt'), Loader=yaml.FullLoader)\n",
    "evaluate_report"
   ]
  },
  {
   "cell_type": "markdown",
   "metadata": {},
   "source": [
    "# Train with another estimator\n",
    "\n",
    "#### 1. Open config/pipeline_config.yml\n",
    "#### 2. In section __train__ change _estimator_name_ to SVC\n",
    "#### 3. Rerun stages __Train__ and __Evaluate__\n",
    "#### 4. Go to next section __Enter MLflow ui__\n"
   ]
  },
  {
   "cell_type": "markdown",
   "metadata": {},
   "source": [
    "# Enter MLflow ui\n",
    "## http://0.0.0.0:5000"
   ]
  },
  {
   "cell_type": "code",
   "execution_count": null,
   "metadata": {},
   "outputs": [],
   "source": []
  },
  {
   "cell_type": "code",
   "execution_count": null,
   "metadata": {},
   "outputs": [],
   "source": []
  }
 ],
 "metadata": {
  "kernelspec": {
   "display_name": "Python 3",
   "language": "python",
   "name": "python3"
  },
  "language_info": {
   "codemirror_mode": {
    "name": "ipython",
    "version": 3
   },
   "file_extension": ".py",
   "mimetype": "text/x-python",
   "name": "python",
   "nbconvert_exporter": "python",
   "pygments_lexer": "ipython3",
   "version": "3.7.3"
  },
  "toc": {
   "base_numbering": 1,
   "nav_menu": {},
   "number_sections": true,
   "sideBar": true,
   "skip_h1_title": false,
   "title_cell": "Table of Contents",
   "title_sidebar": "Contents",
   "toc_cell": false,
   "toc_position": {},
   "toc_section_display": true,
   "toc_window_display": true
  },
  "varInspector": {
   "cols": {
    "lenName": 16,
    "lenType": 16,
    "lenVar": 40
   },
   "kernels_config": {
    "python": {
     "delete_cmd_postfix": "",
     "delete_cmd_prefix": "del ",
     "library": "var_list.py",
     "varRefreshCmd": "print(var_dic_list())"
    },
    "r": {
     "delete_cmd_postfix": ") ",
     "delete_cmd_prefix": "rm(",
     "library": "var_list.r",
     "varRefreshCmd": "cat(var_dic_list()) "
    }
   },
   "types_to_exclude": [
    "module",
    "function",
    "builtin_function_or_method",
    "instance",
    "_Feature"
   ],
   "window_display": false
  }
 },
 "nbformat": 4,
 "nbformat_minor": 2
}
