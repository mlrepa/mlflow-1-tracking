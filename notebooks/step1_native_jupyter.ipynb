{
 "cells": [
  {
   "cell_type": "markdown",
   "metadata": {},
   "source": [
    "```                \n",
    "  __  __  _        __  _                   _______                 _     _                 \n",
    " |  \\/  || |      / _|| |                 |__   __|               | |   (_)              \n",
    " | \\  / || |     | |_ | |  ___ __      __    | | _ __  __ _   ___ | | __ _  _ __    __ _ \n",
    " | |\\/| || |     |  _|| | / _ \\\\ \\ /\\ / /    | || '__|/ _` | / __|| |/ /| || '_ \\  / _` |\n",
    " | |  | || |____ | |  | || (_) |\\ V  V /     | || |  | (_| || (__ |   < | || | | || (_| |\n",
    " |_|  |_||______||_|  |_| \\___/  \\_/\\_/      |_||_|   \\__,_| \\___||_|\\_\\|_||_| |_| \\__, |\n",
    "                                                                                    __/ |\n",
    "                                                                                   |___/ \n",
    "```"
   ]
  },
  {
   "cell_type": "markdown",
   "metadata": {},
   "source": [
    "# Introduction\n",
    "\n",
    "MLflow is an open source platform for managing the end-to-end machine learning lifecycle. \n",
    "\n",
    "It tackles three primary functions:\n",
    "\n",
    "    1) Tracking experiments to record and compare parameters and results (MLflow Tracking).\n",
    "    2) Packaging ML code in a reusable, reproducible form in order to share with other data scientists or transfer to production (MLflow Projects).\n",
    "    3) Managing and deploying models from a variety of ML libraries to a variety of model serving and inference platforms (MLflow Models).\n",
    "\n",
    "(source https://www.mlflow.org/docs/latest/index.html#mlflow-documentation)\n"
   ]
  },
  {
   "cell_type": "markdown",
   "metadata": {},
   "source": [
    "# Part I. Machine learning cycle"
   ]
  },
  {
   "cell_type": "code",
   "execution_count": 1,
   "metadata": {},
   "outputs": [
    {
     "name": "stdout",
     "output_type": "stream",
     "text": [
      "/home/mlflow-1-tracking\n"
     ]
    }
   ],
   "source": [
    "# set working directory\n",
    "%cd /home/mlflow-1-tracking/"
   ]
  },
  {
   "cell_type": "code",
   "execution_count": 15,
   "metadata": {
    "ExecuteTime": {
     "end_time": "2019-06-16T21:17:31.460557Z",
     "start_time": "2019-06-16T21:17:29.395297Z"
    }
   },
   "outputs": [
    {
     "name": "stderr",
     "output_type": "stream",
     "text": [
      "/usr/local/lib/python3.8/site-packages/ipykernel/ipkernel.py:283: DeprecationWarning: `should_run_async` will not call `transform_cell` automatically in the future. Please pass the result to `transformed_cell` argument and any exception that happen during thetransform in `preprocessing_exc_tuple` in IPython 7.17 and above.\n",
      "  and should_run_async(code)\n"
     ]
    }
   ],
   "source": [
    "import joblib\n",
    "import itertools\n",
    "import matplotlib.pyplot as plt\n",
    "import mlflow\n",
    "from mlflow import log_artifact, log_metric, log_param, log_params\n",
    "from mlflow.tracking import MlflowClient\n",
    "import numpy as np\n",
    "import pandas as pd\n",
    "from sklearn.linear_model import LogisticRegression\n",
    "from sklearn.metrics import confusion_matrix, f1_score, make_scorer\n",
    "from sklearn.model_selection import GridSearchCV\n",
    "from sklearn.svm import SVC\n",
    "from sklearn.model_selection import train_test_split"
   ]
  },
  {
   "cell_type": "markdown",
   "metadata": {},
   "source": [
    "## Load dataset"
   ]
  },
  {
   "cell_type": "code",
   "execution_count": 16,
   "metadata": {
    "ExecuteTime": {
     "end_time": "2019-06-16T21:17:31.485189Z",
     "start_time": "2019-06-16T21:17:31.473720Z"
    }
   },
   "outputs": [
    {
     "data": {
      "text/plain": [
       "(150, 5)"
      ]
     },
     "execution_count": 16,
     "metadata": {},
     "output_type": "execute_result"
    }
   ],
   "source": [
    "dataset = pd.read_csv('data/raw/iris.csv')\n",
    "dataset.shape"
   ]
  },
  {
   "cell_type": "code",
   "execution_count": 17,
   "metadata": {
    "ExecuteTime": {
     "end_time": "2019-06-16T21:17:31.524984Z",
     "start_time": "2019-06-16T21:17:31.515243Z"
    }
   },
   "outputs": [
    {
     "data": {
      "text/html": [
       "<div>\n",
       "<style scoped>\n",
       "    .dataframe tbody tr th:only-of-type {\n",
       "        vertical-align: middle;\n",
       "    }\n",
       "\n",
       "    .dataframe tbody tr th {\n",
       "        vertical-align: top;\n",
       "    }\n",
       "\n",
       "    .dataframe thead th {\n",
       "        text-align: right;\n",
       "    }\n",
       "</style>\n",
       "<table border=\"1\" class=\"dataframe\">\n",
       "  <thead>\n",
       "    <tr style=\"text-align: right;\">\n",
       "      <th></th>\n",
       "      <th>sepal_length</th>\n",
       "      <th>sepal_width</th>\n",
       "      <th>petal_length</th>\n",
       "      <th>petal_width</th>\n",
       "      <th>species</th>\n",
       "    </tr>\n",
       "  </thead>\n",
       "  <tbody>\n",
       "    <tr>\n",
       "      <th>0</th>\n",
       "      <td>5.1</td>\n",
       "      <td>3.5</td>\n",
       "      <td>1.4</td>\n",
       "      <td>0.2</td>\n",
       "      <td>setosa</td>\n",
       "    </tr>\n",
       "    <tr>\n",
       "      <th>1</th>\n",
       "      <td>4.9</td>\n",
       "      <td>3.0</td>\n",
       "      <td>1.4</td>\n",
       "      <td>0.2</td>\n",
       "      <td>setosa</td>\n",
       "    </tr>\n",
       "    <tr>\n",
       "      <th>2</th>\n",
       "      <td>4.7</td>\n",
       "      <td>3.2</td>\n",
       "      <td>1.3</td>\n",
       "      <td>0.2</td>\n",
       "      <td>setosa</td>\n",
       "    </tr>\n",
       "    <tr>\n",
       "      <th>3</th>\n",
       "      <td>4.6</td>\n",
       "      <td>3.1</td>\n",
       "      <td>1.5</td>\n",
       "      <td>0.2</td>\n",
       "      <td>setosa</td>\n",
       "    </tr>\n",
       "    <tr>\n",
       "      <th>4</th>\n",
       "      <td>5.0</td>\n",
       "      <td>3.6</td>\n",
       "      <td>1.4</td>\n",
       "      <td>0.2</td>\n",
       "      <td>setosa</td>\n",
       "    </tr>\n",
       "  </tbody>\n",
       "</table>\n",
       "</div>"
      ],
      "text/plain": [
       "   sepal_length  sepal_width  petal_length  petal_width species\n",
       "0           5.1          3.5           1.4          0.2  setosa\n",
       "1           4.9          3.0           1.4          0.2  setosa\n",
       "2           4.7          3.2           1.3          0.2  setosa\n",
       "3           4.6          3.1           1.5          0.2  setosa\n",
       "4           5.0          3.6           1.4          0.2  setosa"
      ]
     },
     "execution_count": 17,
     "metadata": {},
     "output_type": "execute_result"
    }
   ],
   "source": [
    "dataset.head()"
   ]
  },
  {
   "cell_type": "code",
   "execution_count": 20,
   "metadata": {
    "ExecuteTime": {
     "end_time": "2019-06-16T21:17:32.328046Z",
     "start_time": "2019-06-16T21:17:32.323611Z"
    }
   },
   "outputs": [
    {
     "data": {
      "text/plain": [
       "['sepal_length', 'sepal_width', 'petal_length', 'petal_width']"
      ]
     },
     "execution_count": 20,
     "metadata": {},
     "output_type": "execute_result"
    }
   ],
   "source": [
    "# feature names\n",
    "feature_names = dataset.columns.tolist()[:4]\n",
    "feature_names"
   ]
  },
  {
   "cell_type": "code",
   "execution_count": 21,
   "metadata": {
    "ExecuteTime": {
     "end_time": "2019-06-16T21:20:57.053450Z",
     "start_time": "2019-06-16T21:20:57.048051Z"
    }
   },
   "outputs": [
    {
     "data": {
      "text/plain": [
       "['setosa', 'versicolor', 'virginica']"
      ]
     },
     "execution_count": 21,
     "metadata": {},
     "output_type": "execute_result"
    }
   ],
   "source": [
    "# iris species\n",
    "species = dataset['species'].unique().tolist()\n",
    "species"
   ]
  },
  {
   "cell_type": "markdown",
   "metadata": {},
   "source": [
    "## Features engineering"
   ]
  },
  {
   "cell_type": "code",
   "execution_count": 22,
   "metadata": {
    "ExecuteTime": {
     "end_time": "2019-06-16T21:21:02.150708Z",
     "start_time": "2019-06-16T21:21:02.144518Z"
    }
   },
   "outputs": [],
   "source": [
    "dataset['sepal_length_to_sepal_width'] = dataset['sepal_length'] / dataset['sepal_width']\n",
    "dataset['petal_length_to_petal_width'] = dataset['petal_length'] / dataset['petal_width']\n",
    "\n",
    "dataset = dataset[[\n",
    "    'sepal_length', 'sepal_width', 'petal_length', 'petal_width',\n",
    "    'sepal_length_to_sepal_width', 'petal_length_to_petal_width',\n",
    "    'species'\n",
    "]]"
   ]
  },
  {
   "cell_type": "code",
   "execution_count": 23,
   "metadata": {
    "ExecuteTime": {
     "end_time": "2019-06-16T21:21:02.987144Z",
     "start_time": "2019-06-16T21:21:02.976092Z"
    }
   },
   "outputs": [
    {
     "data": {
      "text/html": [
       "<div>\n",
       "<style scoped>\n",
       "    .dataframe tbody tr th:only-of-type {\n",
       "        vertical-align: middle;\n",
       "    }\n",
       "\n",
       "    .dataframe tbody tr th {\n",
       "        vertical-align: top;\n",
       "    }\n",
       "\n",
       "    .dataframe thead th {\n",
       "        text-align: right;\n",
       "    }\n",
       "</style>\n",
       "<table border=\"1\" class=\"dataframe\">\n",
       "  <thead>\n",
       "    <tr style=\"text-align: right;\">\n",
       "      <th></th>\n",
       "      <th>sepal_length</th>\n",
       "      <th>sepal_width</th>\n",
       "      <th>petal_length</th>\n",
       "      <th>petal_width</th>\n",
       "      <th>sepal_length_to_sepal_width</th>\n",
       "      <th>petal_length_to_petal_width</th>\n",
       "      <th>species</th>\n",
       "    </tr>\n",
       "  </thead>\n",
       "  <tbody>\n",
       "    <tr>\n",
       "      <th>0</th>\n",
       "      <td>5.1</td>\n",
       "      <td>3.5</td>\n",
       "      <td>1.4</td>\n",
       "      <td>0.2</td>\n",
       "      <td>1.457143</td>\n",
       "      <td>7.0</td>\n",
       "      <td>setosa</td>\n",
       "    </tr>\n",
       "    <tr>\n",
       "      <th>1</th>\n",
       "      <td>4.9</td>\n",
       "      <td>3.0</td>\n",
       "      <td>1.4</td>\n",
       "      <td>0.2</td>\n",
       "      <td>1.633333</td>\n",
       "      <td>7.0</td>\n",
       "      <td>setosa</td>\n",
       "    </tr>\n",
       "    <tr>\n",
       "      <th>2</th>\n",
       "      <td>4.7</td>\n",
       "      <td>3.2</td>\n",
       "      <td>1.3</td>\n",
       "      <td>0.2</td>\n",
       "      <td>1.468750</td>\n",
       "      <td>6.5</td>\n",
       "      <td>setosa</td>\n",
       "    </tr>\n",
       "    <tr>\n",
       "      <th>3</th>\n",
       "      <td>4.6</td>\n",
       "      <td>3.1</td>\n",
       "      <td>1.5</td>\n",
       "      <td>0.2</td>\n",
       "      <td>1.483871</td>\n",
       "      <td>7.5</td>\n",
       "      <td>setosa</td>\n",
       "    </tr>\n",
       "    <tr>\n",
       "      <th>4</th>\n",
       "      <td>5.0</td>\n",
       "      <td>3.6</td>\n",
       "      <td>1.4</td>\n",
       "      <td>0.2</td>\n",
       "      <td>1.388889</td>\n",
       "      <td>7.0</td>\n",
       "      <td>setosa</td>\n",
       "    </tr>\n",
       "  </tbody>\n",
       "</table>\n",
       "</div>"
      ],
      "text/plain": [
       "   sepal_length  sepal_width  petal_length  petal_width  \\\n",
       "0           5.1          3.5           1.4          0.2   \n",
       "1           4.9          3.0           1.4          0.2   \n",
       "2           4.7          3.2           1.3          0.2   \n",
       "3           4.6          3.1           1.5          0.2   \n",
       "4           5.0          3.6           1.4          0.2   \n",
       "\n",
       "   sepal_length_to_sepal_width  petal_length_to_petal_width species  \n",
       "0                     1.457143                          7.0  setosa  \n",
       "1                     1.633333                          7.0  setosa  \n",
       "2                     1.468750                          6.5  setosa  \n",
       "3                     1.483871                          7.5  setosa  \n",
       "4                     1.388889                          7.0  setosa  "
      ]
     },
     "execution_count": 23,
     "metadata": {},
     "output_type": "execute_result"
    }
   ],
   "source": [
    "dataset.head()"
   ]
  },
  {
   "cell_type": "markdown",
   "metadata": {},
   "source": [
    "## Split dataset"
   ]
  },
  {
   "cell_type": "code",
   "execution_count": 24,
   "metadata": {
    "ExecuteTime": {
     "end_time": "2019-06-16T21:21:06.361378Z",
     "start_time": "2019-06-16T21:21:06.358647Z"
    }
   },
   "outputs": [
    {
     "name": "stderr",
     "output_type": "stream",
     "text": [
      "/usr/local/lib/python3.8/site-packages/ipykernel/ipkernel.py:283: DeprecationWarning: `should_run_async` will not call `transform_cell` automatically in the future. Please pass the result to `transformed_cell` argument and any exception that happen during thetransform in `preprocessing_exc_tuple` in IPython 7.17 and above.\n",
      "  and should_run_async(code)\n"
     ]
    }
   ],
   "source": [
    "test_size = 0.2"
   ]
  },
  {
   "cell_type": "markdown",
   "metadata": {},
   "source": [
    "### transform targets (species) to numerics"
   ]
  },
  {
   "cell_type": "code",
   "execution_count": 25,
   "metadata": {
    "ExecuteTime": {
     "end_time": "2019-06-16T21:21:06.931643Z",
     "start_time": "2019-06-16T21:21:06.919412Z"
    }
   },
   "outputs": [],
   "source": [
    "dataset.loc[dataset.species=='setosa', 'species'] = 0\n",
    "dataset.loc[dataset.species=='versicolor', 'species'] = 1\n",
    "dataset.loc[dataset.species=='virginica', 'species'] = 2"
   ]
  },
  {
   "cell_type": "markdown",
   "metadata": {},
   "source": [
    "### Split in train/test"
   ]
  },
  {
   "cell_type": "code",
   "execution_count": 26,
   "metadata": {
    "ExecuteTime": {
     "end_time": "2019-06-16T21:21:07.438133Z",
     "start_time": "2019-06-16T21:21:07.431649Z"
    }
   },
   "outputs": [
    {
     "data": {
      "text/plain": [
       "((120, 7), (30, 7))"
      ]
     },
     "execution_count": 26,
     "metadata": {},
     "output_type": "execute_result"
    }
   ],
   "source": [
    "train_dataset, test_dataset = train_test_split(dataset, test_size=test_size, random_state=42)\n",
    "train_dataset.shape, test_dataset.shape"
   ]
  },
  {
   "cell_type": "markdown",
   "metadata": {},
   "source": [
    "## Train"
   ]
  },
  {
   "cell_type": "code",
   "execution_count": 27,
   "metadata": {},
   "outputs": [],
   "source": [
    "train_config = {\n",
    "    'cv': 5,\n",
    "    'estimator_name': 'LogisticRegression',\n",
    "    'estimators': {\n",
    "        'LogisticRegression': {\n",
    "            'param_grid': {\n",
    "                'C': [0.001, 0.01],\n",
    "                'max_iter': [100, 200, 300],\n",
    "                'solver': ['lbfgs'],\n",
    "                'multi_class': ['multinomial']}},\n",
    "        'SVC': {\n",
    "            'param_grid': {\n",
    "                'C': [0.1, 1.0],\n",
    "                'kernel': ['rbf', 'linear'],\n",
    "                'gamma': ['scale'],\n",
    "                'degree': [3, 5]\n",
    "            }\n",
    "        }\n",
    "    }\n",
    "}\n",
    "\n",
    "estimators = {\n",
    "        'LogisticRegression': LogisticRegression,\n",
    "        'SVC': SVC\n",
    "}"
   ]
  },
  {
   "cell_type": "code",
   "execution_count": 29,
   "metadata": {},
   "outputs": [],
   "source": [
    "# Get X and y\n",
    "X_train = train_dataset.drop('species', axis=1)\n",
    "y_train = train_dataset.species.astype('int8')"
   ]
  },
  {
   "cell_type": "code",
   "execution_count": 30,
   "metadata": {},
   "outputs": [
    {
     "name": "stdout",
     "output_type": "stream",
     "text": [
      "Fitting 5 folds for each of 6 candidates, totalling 30 fits\n"
     ]
    },
    {
     "name": "stderr",
     "output_type": "stream",
     "text": [
      "[Parallel(n_jobs=1)]: Using backend SequentialBackend with 1 concurrent workers.\n",
      "[Parallel(n_jobs=1)]: Done  30 out of  30 | elapsed:    0.5s finished\n",
      "/usr/local/lib/python3.8/site-packages/sklearn/model_selection/_search.py:847: FutureWarning: The parameter 'iid' is deprecated in 0.22 and will be removed in 0.24.\n",
      "  warnings.warn(\n"
     ]
    },
    {
     "data": {
      "text/plain": [
       "GridSearchCV(cv=5, estimator=LogisticRegression(), iid=True,\n",
       "             param_grid={'C': [0.001, 0.01], 'max_iter': [100, 200, 300],\n",
       "                         'multi_class': ['multinomial'], 'solver': ['lbfgs']},\n",
       "             scoring=make_scorer(f1_score, average=weighted), verbose=1)"
      ]
     },
     "execution_count": 30,
     "metadata": {},
     "output_type": "execute_result"
    }
   ],
   "source": [
    "estimator_name = train_config['estimator_name']\n",
    "estimator = estimators[estimator_name]()\n",
    "f1_scorer = make_scorer(f1_score, average='weighted')\n",
    "param_grid = train_config['estimators'][estimator_name]['param_grid']\n",
    "\n",
    "clf = GridSearchCV(estimator=estimator,\n",
    "                   param_grid=param_grid,\n",
    "                   cv=train_config['cv'],\n",
    "                   verbose=1,\n",
    "                   scoring=f1_scorer,\n",
    "                   iid=True)\n",
    "\n",
    "clf.fit(X_train, y_train)"
   ]
  },
  {
   "cell_type": "code",
   "execution_count": 31,
   "metadata": {},
   "outputs": [
    {
     "name": "stderr",
     "output_type": "stream",
     "text": [
      "/usr/local/lib/python3.8/site-packages/ipykernel/ipkernel.py:283: DeprecationWarning: `should_run_async` will not call `transform_cell` automatically in the future. Please pass the result to `transformed_cell` argument and any exception that happen during thetransform in `preprocessing_exc_tuple` in IPython 7.17 and above.\n",
      "  and should_run_async(code)\n"
     ]
    },
    {
     "data": {
      "text/plain": [
       "0.8783955615534562"
      ]
     },
     "execution_count": 31,
     "metadata": {},
     "output_type": "execute_result"
    }
   ],
   "source": [
    "clf.best_score_"
   ]
  },
  {
   "cell_type": "markdown",
   "metadata": {},
   "source": [
    "## Evaluate"
   ]
  },
  {
   "cell_type": "code",
   "execution_count": 32,
   "metadata": {
    "ExecuteTime": {
     "end_time": "2019-06-16T21:21:55.875303Z",
     "start_time": "2019-06-16T21:21:55.864724Z"
    }
   },
   "outputs": [],
   "source": [
    "def plot_confusion_matrix(cm,\n",
    "                          target_names,\n",
    "                          title='Confusion matrix',\n",
    "                          cmap=None,\n",
    "                          normalize=True):\n",
    "    \"\"\"\n",
    "    given a sklearn confusion matrix (cm), make a nice plot\n",
    "\n",
    "    Arguments\n",
    "    ---------\n",
    "    cm:           confusion matrix from sklearn.metrics.confusion_matrix\n",
    "\n",
    "    target_names: given classification classes such as [0, 1, 2]\n",
    "                  the class names, for example: ['high', 'medium', 'low']\n",
    "\n",
    "    title:        the text to display at the top of the matrix\n",
    "\n",
    "    cmap:         the gradient of the values displayed from matplotlib.pyplot.cm\n",
    "                  see http://matplotlib.org/examples/color/colormaps_reference.html\n",
    "                  plt.get_cmap('jet') or plt.cm.Blues\n",
    "\n",
    "    normalize:    If False, plot the raw numbers\n",
    "                  If True, plot the proportions\n",
    "\n",
    "    Usage\n",
    "    -----\n",
    "    plot_confusion_matrix(cm           = cm,                  # confusion matrix created by\n",
    "                                                              # sklearn.metrics.confusion_matrix\n",
    "                          normalize    = True,                # show proportions\n",
    "                          target_names = y_labels_vals,       # list of names of the classes\n",
    "                          title        = best_estimator_name) # title of graph\n",
    "\n",
    "    Citiation\n",
    "    ---------\n",
    "    http://scikit-learn.org/stable/auto_examples/model_selection/plot_confusion_matrix.html\n",
    "\n",
    "    \"\"\"\n",
    "\n",
    "    accuracy = np.trace(cm) / float(np.sum(cm))\n",
    "    misclass = 1 - accuracy\n",
    "\n",
    "    if cmap is None:\n",
    "        cmap = plt.get_cmap('Blues')\n",
    "\n",
    "    plt.figure(figsize=(8, 6))\n",
    "    plt.imshow(cm, interpolation='nearest', cmap=cmap)\n",
    "    plt.title(title)\n",
    "    plt.colorbar()\n",
    "\n",
    "    if target_names is not None:\n",
    "        tick_marks = np.arange(len(target_names))\n",
    "        plt.xticks(tick_marks, target_names, rotation=45)\n",
    "        plt.yticks(tick_marks, target_names)\n",
    "\n",
    "    if normalize:\n",
    "        cm = cm.astype('float') / cm.sum(axis=1)[:, np.newaxis]\n",
    "\n",
    "    thresh = cm.max() / 1.5 if normalize else cm.max() / 2\n",
    "    for i, j in itertools.product(range(cm.shape[0]), range(cm.shape[1])):\n",
    "        if normalize:\n",
    "            plt.text(j, i, \"{:0.4f}\".format(cm[i, j]),\n",
    "                     horizontalalignment=\"center\",\n",
    "                     color=\"white\" if cm[i, j] > thresh else \"black\")\n",
    "        else:\n",
    "            plt.text(j, i, \"{:,}\".format(cm[i, j]),\n",
    "                     horizontalalignment=\"center\",\n",
    "                     color=\"white\" if cm[i, j] > thresh else \"black\")\n",
    "\n",
    "    plt.tight_layout()\n",
    "    plt.ylabel('True label')\n",
    "    plt.xlabel('Predicted label\\naccuracy={:0.4f}; misclass={:0.4f}'.format(accuracy, misclass))\n",
    "    plt.show()"
   ]
  },
  {
   "cell_type": "code",
   "execution_count": 37,
   "metadata": {},
   "outputs": [],
   "source": [
    "Xtest = test_dataset.drop('species', axis=1)\n",
    "Ytest = test_dataset.species.astype('int8')"
   ]
  },
  {
   "cell_type": "code",
   "execution_count": 38,
   "metadata": {
    "ExecuteTime": {
     "end_time": "2019-06-16T21:21:56.270245Z",
     "start_time": "2019-06-16T21:21:56.265054Z"
    }
   },
   "outputs": [],
   "source": [
    "y_pred = clf.predict(Xtest)\n",
    "\n",
    "cm = confusion_matrix(y_pred, Ytest)\n",
    "f1 = f1_score(y_true=Ytest, y_pred=y_pred, average='macro')"
   ]
  },
  {
   "cell_type": "code",
   "execution_count": 39,
   "metadata": {
    "ExecuteTime": {
     "end_time": "2019-06-16T21:21:56.493617Z",
     "start_time": "2019-06-16T21:21:56.489929Z"
    }
   },
   "outputs": [
    {
     "name": "stderr",
     "output_type": "stream",
     "text": [
      "/usr/local/lib/python3.8/site-packages/ipykernel/ipkernel.py:283: DeprecationWarning: `should_run_async` will not call `transform_cell` automatically in the future. Please pass the result to `transformed_cell` argument and any exception that happen during thetransform in `preprocessing_exc_tuple` in IPython 7.17 and above.\n",
      "  and should_run_async(code)\n"
     ]
    },
    {
     "data": {
      "text/plain": [
       "0.9305555555555555"
      ]
     },
     "execution_count": 39,
     "metadata": {},
     "output_type": "execute_result"
    }
   ],
   "source": [
    "# f1 score value\n",
    "f1"
   ]
  },
  {
   "cell_type": "code",
   "execution_count": 40,
   "metadata": {
    "ExecuteTime": {
     "end_time": "2019-06-16T21:21:56.966279Z",
     "start_time": "2019-06-16T21:21:56.726149Z"
    }
   },
   "outputs": [
    {
     "data": {
      "image/png": "[encoded data removed]",
      "text/plain": [
       "<Figure size 576x432 with 2 Axes>"
      ]
     },
     "metadata": {
      "needs_background": "light"
     },
     "output_type": "display_data"
    }
   ],
   "source": [
    "plot_confusion_matrix(cm, species, normalize=False)"
   ]
  },
  {
   "cell_type": "markdown",
   "metadata": {},
   "source": [
    "## Persist model"
   ]
  },
  {
   "cell_type": "code",
   "execution_count": null,
   "metadata": {},
   "outputs": [],
   "source": [
    "joblib.dump(clf, 'models/model.joblib')"
   ]
  },
  {
   "cell_type": "markdown",
   "metadata": {},
   "source": [
    "# Part II. Logging to mlflow"
   ]
  },
  {
   "cell_type": "markdown",
   "metadata": {},
   "source": [
    "## Log into mlflow"
   ]
  },
  {
   "cell_type": "code",
   "execution_count": 41,
   "metadata": {},
   "outputs": [
    {
     "name": "stdout",
     "output_type": "stream",
     "text": [
      "<ActiveRun: >\n",
      "<RunInfo: artifact_uri='file:///home/mlflow-1-tracking/mlruns/0/0e074f37b5e54fbfb024b85090eaac2b/artifacts', end_time=None, experiment_id='0', lifecycle_stage='active', run_id='0e074f37b5e54fbfb024b85090eaac2b', run_uuid='0e074f37b5e54fbfb024b85090eaac2b', start_time=1608019875596, status='RUNNING', user_id='user'>\n",
      "0e074f37b5e54fbfb024b85090eaac2b\n"
     ]
    }
   ],
   "source": [
    "\n",
    "client = MlflowClient()\n",
    "\n",
    "# Set experiment\n",
    "mlflow.set_experiment(estimator_name)\n",
    "\n",
    "# Start new run\n",
    "with mlflow.start_run() as run:\n",
    "\n",
    "    print(run)\n",
    "    print(run.info)\n",
    "    print(run.info.run_uuid)\n",
    "    \n",
    "    # Log parameters\n",
    "    log_param(key='estimator', value=estimator_name)\n",
    "    log_param(key='cv', value=train_config['cv'])\n",
    "    log_params(param_grid)\n",
    "    \n",
    "    # Log metric\n",
    "    log_metric(key='f1_score', value=f1)\n",
    "    \n",
    "    # Log artifacts\n",
    "    log_artifact(local_path='models/model.joblib')\n",
    "\n",
    "        "
   ]
  },
  {
   "cell_type": "markdown",
   "metadata": {},
   "source": [
    "client-------------------------------------------------------------------------------------------------------------------------------------------------------------------------"
   ]
  },
  {
   "cell_type": "markdown",
   "metadata": {},
   "source": [
    "### Some details\n",
    "\n",
    "**1. Create MLflow client object:**\n",
    "\n",
    "```python\n",
    "client = MlflowClient()\n",
    "```\n",
    "\n",
    "> MlflowClient - Client of an MLflow Tracking Server that creates and manages experiments and runs.\n",
    "source (https://www.mlflow.org/docs/latest/python_api/mlflow.tracking.html)\n",
    "\n",
    "\n",
    "**2. Set experiment**\n",
    "\n",
    "```python\n",
    "mlflow.set_experiment(estimator_name)\n",
    "```\n",
    "\n",
    "- experiment contains runs intended. For example, we create experiments with estimator names: for each estimator - individual experiment.\n",
    "- you can create experiments with different names\n",
    "- ther Defualt experiment name\n",
    "\n",
    "\n",
    "**3. Next step:**\n",
    "\n",
    "```python\n",
    "with mlflow.start_run() as run: \n",
    "```\n",
    "\n",
    "- this code creates new run within current experiment, run is created automatically\n",
    "\n",
    "\n",
    "**4. Log lparams, metrics & artifacts:**\n",
    "\n",
    "```python\n",
    "\n",
    "   # Log parameters\n",
    "    log_param(key='estimator', value=estimator_name)\n",
    "    log_param(key='cv', value=train_config['cv'])\n",
    "    log_params(param_grid)\n",
    "    \n",
    "    # Log metric\n",
    "    log_metric(key='f1_score', value=f1)\n",
    "    \n",
    "    # Log artifacts\n",
    "    log_artifact(local_path='models/model.joblib')\n",
    "    \n",
    "```\n",
    "\n",
    "**Mflow functions:**\n",
    "\n",
    "1. log_param - logs one parameter, requires key (parameter name) and value;\n",
    "2. log_params - multiple parameters logging function, it takes dictionary, keys of which are names and values are values of parameters;\n",
    "3. log_metric - similar to log_param, but logs into separate column in MLflow UI\n",
    "4. log_artifact - log file.\n",
    "\n",
    "---\n",
    "\n",
    "**Where you logs are stored?**\n",
    "\n",
    "- When you set experiment or create new run first time then folder __mlruns__ is created automatically in working directory. \n",
    "- This folder contains folders with experiments and their runs.\n"
   ]
  },
  {
   "cell_type": "markdown",
   "metadata": {},
   "source": [
    "# Open MLflow UI\n",
    "    \n",
    "    MLflow ui allow to observe experiments and runs, to compare model by metrics and select best model params.\n",
    "    \n",
    "    \n",
    "Link to MLflow UI: http://0.0.0.0:5000"
   ]
  },
  {
   "cell_type": "code",
   "execution_count": null,
   "metadata": {},
   "outputs": [],
   "source": []
  }
 ],
 "metadata": {
  "kernelspec": {
   "display_name": "Python 3",
   "language": "python",
   "name": "python3"
  },
  "language_info": {
   "codemirror_mode": {
    "name": "ipython",
    "version": 3
   },
   "file_extension": ".py",
   "mimetype": "text/x-python",
   "name": "python",
   "nbconvert_exporter": "python",
   "pygments_lexer": "ipython3",
   "version": "3.8.6"
  },
  "toc": {
   "base_numbering": 1,
   "nav_menu": {},
   "number_sections": true,
   "sideBar": true,
   "skip_h1_title": false,
   "title_cell": "Table of Contents",
   "title_sidebar": "Contents",
   "toc_cell": false,
   "toc_position": {
    "height": "calc(100% - 180px)",
    "left": "10px",
    "top": "150px",
    "width": "261.818px"
   },
   "toc_section_display": true,
   "toc_window_display": true
  },
  "varInspector": {
   "cols": {
    "lenName": 16,
    "lenType": 16,
    "lenVar": 40
   },
   "kernels_config": {
    "python": {
     "delete_cmd_postfix": "",
     "delete_cmd_prefix": "del ",
     "library": "var_list.py",
     "varRefreshCmd": "print(var_dic_list())"
    },
    "r": {
     "delete_cmd_postfix": ") ",
     "delete_cmd_prefix": "rm(",
     "library": "var_list.r",
     "varRefreshCmd": "cat(var_dic_list()) "
    }
   },
   "types_to_exclude": [
    "module",
    "function",
    "builtin_function_or_method",
    "instance",
    "_Feature"
   ],
   "window_display": false
  }
 },
 "nbformat": 4,
 "nbformat_minor": 4
}
